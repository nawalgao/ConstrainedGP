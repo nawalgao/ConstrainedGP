{
 "cells": [
  {
   "cell_type": "markdown",
   "metadata": {},
   "source": [
    "# Bayesian Optimization of Unimodal Functions - NIPS 2017\n",
    "\n",
    "## Idea for automatic detectiokn of monotonicity\n",
    "\n",
    "This notebook describes an idea for automatic detection of monotonicity in a probabilistic setting.\n",
    "\n",
    "We are interested in building Gaussian Process models with monotonicity information. Let $f(x)$ be a function defined on the real-line and assume the variable $m \\  \\in \\left\\lbrace-1, 0, 1\\right\\rbrace$ dictates the monotonicity properties of $f$ such that:\n",
    "\n",
    "  $m = -1 \\iff f$ is monotonic and decreasing\n",
    "  \n",
    "  $m = 0 \\iff f$ is non-monotonic\n",
    "  \n",
    "  $m = 1 \\iff f$ is monotonic and increasing\n",
    "  \n",
    "Michael Anderson and guys then construct a joint model of $f(\\cdot)$ and $m(\\cdot)$ as follows:\n",
    "\n",
    "$$p(\\mathbf{y}, \\mathbf{f}, \\mathbf{f'}, \\mathbf{m}) = \\frac{1}{Z} \\mathcal{N}(\\mathbf{y}|\\mathbf{f},\n",
    "\\sigma^{2}\\mathbf{I})p(\\mathbf{f}, \\mathbf{f'})\\prod_{i = 1}^{M} \\phi(m \\cdot f_i')p(m)),$$\n",
    "\n",
    "where $\\textbf{y} \\in \\mathbf{R}^N$ is a set of observations, $\\textbf{f} \\in \\mathbf{R}^N$ and $\\textbf{f}' \\in \\mathbf{R}^M$ are the latent function and its derivatives, respectively, and $p(m)$ is the prior distribution on $m$."
   ]
  },
  {
   "cell_type": "code",
   "execution_count": 1,
   "metadata": {},
   "outputs": [
    {
     "data": {
      "text/html": [
       "<style>.container { width:80% !important;align=center; }</style>"
      ],
      "text/plain": [
       "<IPython.core.display.HTML object>"
      ]
     },
     "metadata": {},
     "output_type": "display_data"
    }
   ],
   "source": [
    "%matplotlib inline\n",
    "import numpy as np\n",
    "import pylab as plt\n",
    "\n",
    "from scipy.stats import norm\n",
    "from scipy.integrate import quad\n",
    "\n",
    "import GPy\n",
    "\n",
    "from IPython.core.display import display, HTML\n",
    "display(HTML(\"<style>.container { width:80% !important;align=center; }</style>\"))\n",
    "np.set_printoptions(precision=4, linewidth=200)\n",
    "\n",
    "import seaborn as snb\n",
    "snb.set_style('darkgrid')\n",
    "snb.set(font_scale = 1.5)"
   ]
  },
  {
   "cell_type": "code",
   "execution_count": null,
   "metadata": {
    "collapsed": true
   },
   "outputs": [],
   "source": []
  }
 ],
 "metadata": {
  "kernelspec": {
   "display_name": "Python [default]",
   "language": "python",
   "name": "python2"
  },
  "language_info": {
   "codemirror_mode": {
    "name": "ipython",
    "version": 2
   },
   "file_extension": ".py",
   "mimetype": "text/x-python",
   "name": "python",
   "nbconvert_exporter": "python",
   "pygments_lexer": "ipython2",
   "version": "2.7.14"
  }
 },
 "nbformat": 4,
 "nbformat_minor": 2
}
