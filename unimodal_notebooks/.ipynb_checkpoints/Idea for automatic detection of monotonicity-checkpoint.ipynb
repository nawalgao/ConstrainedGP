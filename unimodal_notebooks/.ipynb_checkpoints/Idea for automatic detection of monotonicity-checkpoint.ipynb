{
 "cells": [
  {
   "cell_type": "markdown",
   "metadata": {},
   "source": [
    "# Bayesian Optimization of Unimodal Functions - NIPS 2017\n",
    "\n",
    "## Idea for automatic detectiokn of monotonicity\n",
    "\n",
    "This notebook describes an idea for automatic detection of monotonicity in a probabilistic setting.\n",
    "\n",
    "We are interested in building Gaussian Process models with monotonicity information. Let $f(x)$ be a function defined on the real-line and assume the variable $m \\epsilon {-1, 0, 1}$ dictates the monotonicity properties of $f$ such that:\n",
    "\n",
    "$m = -1 \\iff f$ is monotonic and decreasing\n",
    "  \n",
    "  $m = 0 \\iff f$ is non-monotonic\n",
    "  \n",
    "  $m = 1 \\iff f$ is monotonic and increasing"
   ]
  },
  {
   "cell_type": "code",
   "execution_count": null,
   "metadata": {
    "collapsed": true
   },
   "outputs": [],
   "source": []
  }
 ],
 "metadata": {
  "kernelspec": {
   "display_name": "Python [default]",
   "language": "python",
   "name": "python2"
  },
  "language_info": {
   "codemirror_mode": {
    "name": "ipython",
    "version": 2
   },
   "file_extension": ".py",
   "mimetype": "text/x-python",
   "name": "python",
   "nbconvert_exporter": "python",
   "pygments_lexer": "ipython2",
   "version": "2.7.14"
  }
 },
 "nbformat": 4,
 "nbformat_minor": 2
}
