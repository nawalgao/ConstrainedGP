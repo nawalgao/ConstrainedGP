{
 "cells": [
  {
   "cell_type": "markdown",
   "metadata": {},
   "source": [
    "# Thermal Preference Elicitation Framework\n",
    "\n",
    "Currently, this framework has been validated for only 1D (operating temp) feature.\n",
    "\n",
    "In this example notebook, we consider an example case in which we assume that the utility of occupant is defined as below <img src=\"img.png\">"
   ]
  },
  {
   "cell_type": "markdown",
   "metadata": {},
   "source": [
    "# Step 1\n",
    "\n",
    "Load required modules"
   ]
  },
  {
   "cell_type": "code",
   "execution_count": 4,
   "metadata": {},
   "outputs": [],
   "source": [
    "import pandas as pd\n",
    "import numpy as np\n",
    "import sys\n",
    "sys.path.append('../')\n",
    "from GPElicit import elicit\n",
    "from Misc import visualize"
   ]
  },
  {
   "cell_type": "markdown",
   "metadata": {},
   "source": [
    "# Step 2\n",
    "\n",
    "1. Occupant walks inside the room and is exposed to state r.\n",
    "2. Randomly change the state of the room to new state s.\n",
    "3. Ask the occupant which state they prefer. \n",
    "4. If they say state current state s, then record y as 1. If they say previous state r, then record y as 0.\n",
    "This first duel is our initial duel.\n",
    "5. Put the duel value and response in the '../data/duels/duels.csv' file\n"
   ]
  },
  {
   "cell_type": "code",
   "execution_count": 5,
   "metadata": {
    "collapsed": true
   },
   "outputs": [],
   "source": [
    "# Load the duels file\n",
    "data_file = '../data/duels/duels1.csv'"
   ]
  },
  {
   "cell_type": "code",
   "execution_count": 6,
   "metadata": {},
   "outputs": [
    {
     "data": {
      "text/html": [
       "<div>\n",
       "<style scoped>\n",
       "    .dataframe tbody tr th:only-of-type {\n",
       "        vertical-align: middle;\n",
       "    }\n",
       "\n",
       "    .dataframe tbody tr th {\n",
       "        vertical-align: top;\n",
       "    }\n",
       "\n",
       "    .dataframe thead th {\n",
       "        text-align: right;\n",
       "    }\n",
       "</style>\n",
       "<table border=\"1\" class=\"dataframe\">\n",
       "  <thead>\n",
       "    <tr style=\"text-align: right;\">\n",
       "      <th></th>\n",
       "      <th>Unnamed: 0</th>\n",
       "      <th>Tprev</th>\n",
       "      <th>Tcurrent</th>\n",
       "      <th>y</th>\n",
       "      <th>MEUI</th>\n",
       "    </tr>\n",
       "  </thead>\n",
       "  <tbody>\n",
       "    <tr>\n",
       "      <th>0</th>\n",
       "      <td>0</td>\n",
       "      <td>15.00</td>\n",
       "      <td>20.00</td>\n",
       "      <td>1</td>\n",
       "      <td>0.2170</td>\n",
       "    </tr>\n",
       "    <tr>\n",
       "      <th>1</th>\n",
       "      <td>1</td>\n",
       "      <td>20.00</td>\n",
       "      <td>27.00</td>\n",
       "      <td>0</td>\n",
       "      <td>0.0552</td>\n",
       "    </tr>\n",
       "    <tr>\n",
       "      <th>2</th>\n",
       "      <td>2</td>\n",
       "      <td>27.00</td>\n",
       "      <td>15.00</td>\n",
       "      <td>0</td>\n",
       "      <td>0.0552</td>\n",
       "    </tr>\n",
       "    <tr>\n",
       "      <th>3</th>\n",
       "      <td>3</td>\n",
       "      <td>15.00</td>\n",
       "      <td>22.60</td>\n",
       "      <td>1</td>\n",
       "      <td>0.0274</td>\n",
       "    </tr>\n",
       "    <tr>\n",
       "      <th>4</th>\n",
       "      <td>4</td>\n",
       "      <td>22.60</td>\n",
       "      <td>18.40</td>\n",
       "      <td>1</td>\n",
       "      <td>0.0115</td>\n",
       "    </tr>\n",
       "    <tr>\n",
       "      <th>5</th>\n",
       "      <td>5</td>\n",
       "      <td>18.40</td>\n",
       "      <td>25.00</td>\n",
       "      <td>0</td>\n",
       "      <td>0.0188</td>\n",
       "    </tr>\n",
       "    <tr>\n",
       "      <th>6</th>\n",
       "      <td>6</td>\n",
       "      <td>25.00</td>\n",
       "      <td>21.12</td>\n",
       "      <td>1</td>\n",
       "      <td>0.0094</td>\n",
       "    </tr>\n",
       "    <tr>\n",
       "      <th>7</th>\n",
       "      <td>7</td>\n",
       "      <td>21.12</td>\n",
       "      <td>19.16</td>\n",
       "      <td>1</td>\n",
       "      <td>0.0120</td>\n",
       "    </tr>\n",
       "    <tr>\n",
       "      <th>8</th>\n",
       "      <td>8</td>\n",
       "      <td>19.16</td>\n",
       "      <td>17.69</td>\n",
       "      <td>0</td>\n",
       "      <td>0.0050</td>\n",
       "    </tr>\n",
       "    <tr>\n",
       "      <th>9</th>\n",
       "      <td>9</td>\n",
       "      <td>17.69</td>\n",
       "      <td>19.65</td>\n",
       "      <td>1</td>\n",
       "      <td>0.0070</td>\n",
       "    </tr>\n",
       "    <tr>\n",
       "      <th>10</th>\n",
       "      <td>10</td>\n",
       "      <td>19.65</td>\n",
       "      <td>20.38</td>\n",
       "      <td>0</td>\n",
       "      <td>0.0035</td>\n",
       "    </tr>\n",
       "  </tbody>\n",
       "</table>\n",
       "</div>"
      ],
      "text/plain": [
       "    Unnamed: 0  Tprev  Tcurrent  y    MEUI\n",
       "0            0  15.00     20.00  1  0.2170\n",
       "1            1  20.00     27.00  0  0.0552\n",
       "2            2  27.00     15.00  0  0.0552\n",
       "3            3  15.00     22.60  1  0.0274\n",
       "4            4  22.60     18.40  1  0.0115\n",
       "5            5  18.40     25.00  0  0.0188\n",
       "6            6  25.00     21.12  1  0.0094\n",
       "7            7  21.12     19.16  1  0.0120\n",
       "8            8  19.16     17.69  0  0.0050\n",
       "9            9  17.69     19.65  1  0.0070\n",
       "10          10  19.65     20.38  0  0.0035"
      ]
     },
     "execution_count": 6,
     "metadata": {},
     "output_type": "execute_result"
    }
   ],
   "source": [
    "data = pd.read_csv(data_file)\n",
    "data # check if the duels data is as you want it to be"
   ]
  },
  {
   "cell_type": "code",
   "execution_count": 7,
   "metadata": {
    "collapsed": true
   },
   "outputs": [],
   "source": [
    "iter_num = data.shape[0]"
   ]
  },
  {
   "cell_type": "code",
   "execution_count": 8,
   "metadata": {
    "collapsed": true
   },
   "outputs": [],
   "source": [
    "Tprev = np.array(data.Tprev) # previous state (operating temp.)\n",
    "Tcurrent = np.array(data.Tcurrent) # current state <---- elicitation framework will give you this values\n",
    "X = np.vstack([[Tprev, Tcurrent]]).T\n",
    "X = X.astype(float) # features need to be float\n",
    "Y = np.array(data.y)[:,None] # response of the occupant <---- you need to ask occupant about this"
   ]
  },
  {
   "cell_type": "markdown",
   "metadata": {
    "collapsed": true
   },
   "source": [
    "# Step 3\n",
    "\n",
    "Now, we want to find the next elicited state. So, we need to use **elicit** module."
   ]
  },
  {
   "cell_type": "code",
   "execution_count": 9,
   "metadata": {
    "collapsed": true
   },
   "outputs": [],
   "source": [
    "config_file = '../config_files/thermal_config.json' # configuration for grid (how fine you want to be)\n",
    "trial_num = 1 # this is just to save all the plots in '../data/results/T1' if trial_num = 1 ; T2 if trial_num = 2"
   ]
  },
  {
   "cell_type": "code",
   "execution_count": 21,
   "metadata": {},
   "outputs": [
    {
     "name": "stdout",
     "output_type": "stream",
     "text": [
      "burn-in sampling started\n",
      "Iteration:  100 \t Acc Rate:  98.0 %\n",
      "Iteration:  200 \t Acc Rate:  99.0 %\n",
      "Iteration:  300 \t Acc Rate:  99.0 %\n",
      "Iteration:  400 \t Acc Rate:  100.0 %\n",
      "Iteration:  500 \t Acc Rate:  100.0 %\n",
      "burn-in sampling ended\n",
      "Iteration:  100 \t Acc Rate:  98.0 %\n",
      "Iteration:  200 \t Acc Rate:  100.0 %\n",
      "Iteration:  300 \t Acc Rate:  100.0 %\n",
      "Iteration:  400 \t Acc Rate:  99.0 %\n",
      "Iteration:  500 \t Acc Rate:  100.0 %\n",
      "Iteration:  600 \t Acc Rate:  100.0 %\n",
      "Iteration:  700 \t Acc Rate:  100.0 %\n",
      "Iteration:  800 \t Acc Rate:  99.0 %\n",
      "Iteration:  900 \t Acc Rate:  98.0 %\n",
      "Iteration:  1000 \t Acc Rate:  100.0 %\n",
      "Iteration:  1100 \t Acc Rate:  100.0 %\n",
      "Iteration:  1200 \t Acc Rate:  99.0 %\n",
      "Iteration:  1300 \t Acc Rate:  100.0 %\n",
      "Iteration:  1400 \t Acc Rate:  100.0 %\n",
      "Iteration:  1500 \t Acc Rate:  100.0 %\n",
      "Iteration:  1600 \t Acc Rate:  100.0 %\n",
      "Iteration:  1700 \t Acc Rate:  99.0 %\n",
      "Iteration:  1800 \t Acc Rate:  100.0 %\n",
      "Iteration:  1900 \t Acc Rate:  99.0 %\n",
      "Iteration:  2000 \t Acc Rate:  100.0 %\n",
      "[20.38]\n"
     ]
    }
   ],
   "source": [
    "Aq = elicit.Aquisition(X,Y, config_file)"
   ]
  },
  {
   "cell_type": "code",
   "execution_count": 29,
   "metadata": {},
   "outputs": [
    {
     "data": {
      "text/plain": [
       "array([[0.        ],\n",
       "       [0.00907029],\n",
       "       [0.01814059],\n",
       "       [0.02721088],\n",
       "       [0.03628118],\n",
       "       [0.04535147],\n",
       "       [0.05442177],\n",
       "       [0.06349206],\n",
       "       [0.07256236],\n",
       "       [0.08163265],\n",
       "       [0.09070295],\n",
       "       [0.09977324],\n",
       "       [0.10884354],\n",
       "       [0.11791383],\n",
       "       [0.12698413],\n",
       "       [0.13605442],\n",
       "       [0.14512472],\n",
       "       [0.15419501],\n",
       "       [0.16326531],\n",
       "       [0.1723356 ],\n",
       "       [0.1814059 ],\n",
       "       [0.19047619],\n",
       "       [0.19954649],\n",
       "       [0.20861678],\n",
       "       [0.21768707],\n",
       "       [0.22675737],\n",
       "       [0.23582766],\n",
       "       [0.24489796],\n",
       "       [0.25396825],\n",
       "       [0.26303855],\n",
       "       [0.27210884],\n",
       "       [0.28117914],\n",
       "       [0.29024943],\n",
       "       [0.29931973],\n",
       "       [0.30839002],\n",
       "       [0.31746032],\n",
       "       [0.32653061],\n",
       "       [0.33560091],\n",
       "       [0.3446712 ],\n",
       "       [0.3537415 ],\n",
       "       [0.36281179],\n",
       "       [0.37188209],\n",
       "       [0.38095238],\n",
       "       [0.39002268],\n",
       "       [0.39909297],\n",
       "       [0.40816327],\n",
       "       [0.41723356],\n",
       "       [0.42630385],\n",
       "       [0.43537415],\n",
       "       [0.44444444]])"
      ]
     },
     "execution_count": 29,
     "metadata": {},
     "output_type": "execute_result"
    }
   ],
   "source": [
    "Aq.Xreachablenorm"
   ]
  },
  {
   "cell_type": "code",
   "execution_count": 28,
   "metadata": {},
   "outputs": [
    {
     "data": {
      "text/plain": [
       "array([[0.        ],\n",
       "       [0.00907029],\n",
       "       [0.01814059],\n",
       "       [0.02721088],\n",
       "       [0.03628118],\n",
       "       [0.04535147],\n",
       "       [0.05442177],\n",
       "       [0.06349206],\n",
       "       [0.07256236],\n",
       "       [0.08163265],\n",
       "       [0.09070295],\n",
       "       [0.09977324],\n",
       "       [0.10884354],\n",
       "       [0.11791383],\n",
       "       [0.12698413],\n",
       "       [0.13605442],\n",
       "       [0.14512472],\n",
       "       [0.15419501],\n",
       "       [0.16326531],\n",
       "       [0.1723356 ],\n",
       "       [0.1814059 ],\n",
       "       [0.19047619],\n",
       "       [0.19954649],\n",
       "       [0.20861678],\n",
       "       [0.21768707],\n",
       "       [0.22675737],\n",
       "       [0.23582766],\n",
       "       [0.24489796],\n",
       "       [0.25396825],\n",
       "       [0.26303855],\n",
       "       [0.27210884],\n",
       "       [0.28117914],\n",
       "       [0.29024943],\n",
       "       [0.29931973],\n",
       "       [0.30839002],\n",
       "       [0.31746032],\n",
       "       [0.32653061],\n",
       "       [0.33560091],\n",
       "       [0.3446712 ],\n",
       "       [0.3537415 ],\n",
       "       [0.36281179],\n",
       "       [0.37188209],\n",
       "       [0.38095238],\n",
       "       [0.39002268],\n",
       "       [0.39909297],\n",
       "       [0.40816327],\n",
       "       [0.41723356],\n",
       "       [0.42630385],\n",
       "       [0.43537415],\n",
       "       [0.44444444]])"
      ]
     },
     "execution_count": 28,
     "metadata": {},
     "output_type": "execute_result"
    }
   ],
   "source": [
    "Aq.Xreachablenorm[:,0:]"
   ]
  },
  {
   "cell_type": "code",
   "execution_count": 10,
   "metadata": {},
   "outputs": [
    {
     "name": "stdout",
     "output_type": "stream",
     "text": [
      "burn-in sampling started\n",
      "Iteration:  100 \t Acc Rate:  98.0 %\n",
      "Iteration:  200 \t Acc Rate:  100.0 %\n",
      "Iteration:  300 \t Acc Rate:  99.0 %\n",
      "Iteration:  400 \t Acc Rate:  100.0 %\n",
      "Iteration:  500 \t Acc Rate:  100.0 %\n",
      "burn-in sampling ended\n",
      "Iteration:  100 \t Acc Rate:  98.0 %\n",
      "Iteration:  200 \t Acc Rate:  100.0 %\n",
      "Iteration:  300 \t Acc Rate:  100.0 %\n",
      "Iteration:  400 \t Acc Rate:  100.0 %\n",
      "Iteration:  500 \t Acc Rate:  100.0 %\n",
      "Iteration:  600 \t Acc Rate:  100.0 %\n",
      "Iteration:  700 \t Acc Rate:  99.0 %\n",
      "Iteration:  800 \t Acc Rate:  100.0 %\n",
      "Iteration:  900 \t Acc Rate:  100.0 %\n",
      "Iteration:  1000 \t Acc Rate:  100.0 %\n",
      "Iteration:  1100 \t Acc Rate:  99.0 %\n",
      "Iteration:  1200 \t Acc Rate:  100.0 %\n",
      "Iteration:  1300 \t Acc Rate:  100.0 %\n",
      "Iteration:  1400 \t Acc Rate:  99.0 %\n",
      "Iteration:  1500 \t Acc Rate:  100.0 %\n",
      "Iteration:  1600 \t Acc Rate:  100.0 %\n",
      "Iteration:  1700 \t Acc Rate:  100.0 %\n",
      "Iteration:  1800 \t Acc Rate:  99.0 %\n",
      "Iteration:  1900 \t Acc Rate:  98.0 %\n",
      "Iteration:  2000 \t Acc Rate:  100.0 %\n",
      "[20.38]\n"
     ]
    }
   ],
   "source": [
    "next_state, next_duel, meanexp, max_exp_imp = elicit.Aquisition(X,Y, config_file).EUI(iter_num,\n",
    "                                                                                     trial_num, savefig = True)"
   ]
  },
  {
   "cell_type": "markdown",
   "metadata": {},
   "source": [
    "## Step 3 is the most important step. It outputs next state."
   ]
  },
  {
   "cell_type": "markdown",
   "metadata": {},
   "source": [
    "# next_state ?"
   ]
  },
  {
   "cell_type": "code",
   "execution_count": 11,
   "metadata": {},
   "outputs": [
    {
     "data": {
      "text/plain": [
       "array([18.67346939])"
      ]
     },
     "execution_count": 11,
     "metadata": {},
     "output_type": "execute_result"
    }
   ],
   "source": [
    "next_state"
   ]
  },
  {
   "cell_type": "markdown",
   "metadata": {},
   "source": [
    "# next duel ?\n",
    "\n",
    "One of the state is always shared between two duels. So, this is nothing but concatenation of next_state with previous."
   ]
  },
  {
   "cell_type": "code",
   "execution_count": 12,
   "metadata": {},
   "outputs": [
    {
     "data": {
      "text/plain": [
       "array([20.38      , 18.67346939])"
      ]
     },
     "execution_count": 12,
     "metadata": {},
     "output_type": "execute_result"
    }
   ],
   "source": [
    "next_duel"
   ]
  },
  {
   "cell_type": "markdown",
   "metadata": {},
   "source": [
    "# max EUI ?"
   ]
  },
  {
   "cell_type": "code",
   "execution_count": 13,
   "metadata": {},
   "outputs": [
    {
     "data": {
      "text/plain": [
       "0.005109645629785789"
      ]
     },
     "execution_count": 13,
     "metadata": {},
     "output_type": "execute_result"
    }
   ],
   "source": [
    "max_exp_imp"
   ]
  },
  {
   "cell_type": "markdown",
   "metadata": {},
   "source": [
    "# Step 4 (Sanity checks)\n",
    "\n",
    "Is our framework on the right track?\n",
    "\n",
    "Check -\n",
    "1. Max Expected Improvement value (is it less than the previous iteration's expected improvement? If so, GOOD!\n",
    "2. Check the Expected Improvement plots. This will be saved automatically in '../data/results/T1/exp_imp_plots/iteration_num'.\n",
    "3. Also check utility samples, how they look? Do they make sense? Is our framework going towards max? Some utility samples will also be saved in '../data/results/T1/utility_samples/iteration_num'."
   ]
  },
  {
   "cell_type": "markdown",
   "metadata": {},
   "source": [
    "# Step 5\n",
    "\n",
    "1. Once you have verified that the framework is on the right track, change the operating temp of the room to the next_state as above. \n",
    "2. Its fine if you are not able to acheive the next state accurately, just record the measured next state value.\n",
    "2. Ask the occupant again, which state does he prefer.\n",
    "3. Add the new measured state and response to the csv  '../data/duels/duels.csv' file.\n",
    "4. Add max_exp_imp to the MEUI column.\n",
    "5. Run the notebook again with updated csv file.\n",
    "6. As you progress with the elicitation, you will notice that the ratio $(MEUI_{(i+1)} - MEUI_{(i)})/MEUI_{(i)}$ will decrease. Based on pilot study, stop the elicitation, once the ratio becomes small enough."
   ]
  },
  {
   "cell_type": "markdown",
   "metadata": {},
   "source": [
    "# Validation (This is just for playing around with the framework)"
   ]
  },
  {
   "cell_type": "code",
   "execution_count": 14,
   "metadata": {
    "collapsed": true
   },
   "outputs": [],
   "source": [
    "from SynOccupant import datagen"
   ]
  },
  {
   "cell_type": "code",
   "execution_count": 15,
   "metadata": {
    "collapsed": true
   },
   "outputs": [],
   "source": [
    "DObject = datagen.ThermalPrefDataGen(config_file)\n",
    "ynew = DObject.response_gen1D(next_duel[:,None].T)"
   ]
  },
  {
   "cell_type": "code",
   "execution_count": 16,
   "metadata": {},
   "outputs": [
    {
     "data": {
      "text/plain": [
       "array([1])"
      ]
     },
     "execution_count": 16,
     "metadata": {},
     "output_type": "execute_result"
    }
   ],
   "source": [
    "ynew"
   ]
  },
  {
   "cell_type": "code",
   "execution_count": 17,
   "metadata": {},
   "outputs": [
    {
     "data": {
      "text/plain": [
       "array([20.38      , 18.67346939])"
      ]
     },
     "execution_count": 17,
     "metadata": {},
     "output_type": "execute_result"
    }
   ],
   "source": [
    "next_duel"
   ]
  },
  {
   "cell_type": "markdown",
   "metadata": {},
   "source": [
    "## Add response, new duel and MEUI to csv file and run again"
   ]
  },
  {
   "cell_type": "code",
   "execution_count": 18,
   "metadata": {
    "collapsed": true
   },
   "outputs": [],
   "source": [
    "MEUI = np.array(data.MEUI)"
   ]
  },
  {
   "cell_type": "code",
   "execution_count": 19,
   "metadata": {
    "collapsed": true
   },
   "outputs": [],
   "source": [
    "ratios = (MEUI[:-1] - MEUI[1:])/MEUI[1:]"
   ]
  },
  {
   "cell_type": "code",
   "execution_count": 20,
   "metadata": {},
   "outputs": [
    {
     "data": {
      "text/plain": [
       "array([[ 2.93115942],\n",
       "       [ 0.        ],\n",
       "       [ 1.01459854],\n",
       "       [ 1.3826087 ],\n",
       "       [-0.38829787],\n",
       "       [ 1.        ],\n",
       "       [-0.21666667],\n",
       "       [ 1.4       ],\n",
       "       [-0.28571429],\n",
       "       [ 1.        ]])"
      ]
     },
     "execution_count": 20,
     "metadata": {},
     "output_type": "execute_result"
    }
   ],
   "source": [
    "ratios[:,None]"
   ]
  },
  {
   "cell_type": "code",
   "execution_count": null,
   "metadata": {
    "collapsed": true
   },
   "outputs": [],
   "source": []
  }
 ],
 "metadata": {
  "kernelspec": {
   "display_name": "Python 2",
   "language": "python",
   "name": "python2"
  },
  "language_info": {
   "codemirror_mode": {
    "name": "ipython",
    "version": 2
   },
   "file_extension": ".py",
   "mimetype": "text/x-python",
   "name": "python",
   "nbconvert_exporter": "python",
   "pygments_lexer": "ipython2",
   "version": "2.7.14"
  }
 },
 "nbformat": 4,
 "nbformat_minor": 2
}
