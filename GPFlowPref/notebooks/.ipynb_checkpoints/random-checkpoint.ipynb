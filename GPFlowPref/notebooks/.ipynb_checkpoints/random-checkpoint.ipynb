{
 "cells": [
  {
   "cell_type": "code",
   "execution_count": 1,
   "metadata": {
    "collapsed": true
   },
   "outputs": [],
   "source": [
    "import numpy as np"
   ]
  },
  {
   "cell_type": "code",
   "execution_count": 2,
   "metadata": {
    "collapsed": true
   },
   "outputs": [],
   "source": [
    "data_file = '../data/results/T1/exp_imp_saves/9.npz'"
   ]
  },
  {
   "cell_type": "code",
   "execution_count": 3,
   "metadata": {
    "collapsed": true
   },
   "outputs": [],
   "source": [
    "data = np.load(data_file)"
   ]
  },
  {
   "cell_type": "code",
   "execution_count": 4,
   "metadata": {},
   "outputs": [
    {
     "data": {
      "text/plain": [
       "['Xnorm',\n",
       " 'mean_exp_imp',\n",
       " 'mtrainmat',\n",
       " 'iter_num',\n",
       " 'samples',\n",
       " 'Y',\n",
       " 'X',\n",
       " 'varreachmat',\n",
       " 'vartrainmat',\n",
       " 'mreachmat']"
      ]
     },
     "execution_count": 4,
     "metadata": {},
     "output_type": "execute_result"
    }
   ],
   "source": [
    "data.keys()"
   ]
  },
  {
   "cell_type": "code",
   "execution_count": 5,
   "metadata": {},
   "outputs": [
    {
     "data": {
      "text/plain": [
       "array([[15.        , 20.        ],\n",
       "       [20.        , 27.        ],\n",
       "       [27.        , 22.38461538],\n",
       "       [22.38461538, 17.76923077],\n",
       "       [17.76923077, 21.15384615],\n",
       "       [21.15384615, 23.92307692],\n",
       "       [23.92307692, 24.84615385],\n",
       "       [24.84615385, 23.30769231],\n",
       "       [23.30769231, 15.92307692],\n",
       "       [15.92307692, 19.30769231]])"
      ]
     },
     "execution_count": 5,
     "metadata": {},
     "output_type": "execute_result"
    }
   ],
   "source": [
    "X = data['X']\n",
    "Y = data['Y']"
   ]
  },
  {
   "cell_type": "code",
   "execution_count": null,
   "metadata": {
    "collapsed": true
   },
   "outputs": [],
   "source": []
  }
 ],
 "metadata": {
  "kernelspec": {
   "display_name": "Python 2",
   "language": "python",
   "name": "python2"
  },
  "language_info": {
   "codemirror_mode": {
    "name": "ipython",
    "version": 2
   },
   "file_extension": ".py",
   "mimetype": "text/x-python",
   "name": "python",
   "nbconvert_exporter": "python",
   "pygments_lexer": "ipython2",
   "version": "2.7.14"
  }
 },
 "nbformat": 4,
 "nbformat_minor": 2
}
