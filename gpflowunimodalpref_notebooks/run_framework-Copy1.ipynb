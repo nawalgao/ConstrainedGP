{
 "cells": [
  {
   "cell_type": "markdown",
   "metadata": {},
   "source": [
    "# Thermal Preference Elicitation Framework\n",
    "\n",
    "Currently, this framework has been validated for only 1D (operating temp) feature./"
   ]
  },
  {
   "cell_type": "markdown",
   "metadata": {},
   "source": [
    "# Step 1\n",
    "\n",
    "Load required modules"
   ]
  },
  {
   "cell_type": "code",
   "execution_count": 1,
   "metadata": {},
   "outputs": [
    {
     "name": "stderr",
     "output_type": "stream",
     "text": [
      "/Users/nimishawalgaonkar/anaconda2/lib/python2.7/site-packages/h5py/__init__.py:34: FutureWarning: Conversion of the second argument of issubdtype from `float` to `np.floating` is deprecated. In future, it will be treated as `np.float64 == np.dtype(float).type`.\n",
      "  from ._conv import register_converters as _register_converters\n"
     ]
    }
   ],
   "source": [
    "import sys\n",
    "sys.path.append('../')\n",
    "import numpy as np\n",
    "import pandas as pd\n",
    "from GPFlowUnimodalPref.GPUnimodalElicit import elicit\n",
    "from GPFlowUnimodalPref.SynOccupant import datagen"
   ]
  },
  {
   "cell_type": "markdown",
   "metadata": {},
   "source": [
    "# Step 2\n",
    "\n",
    "1. Occupant walks inside the room and is exposed to state r.\n",
    "2. Randomly change the state of the room to new state s.\n",
    "3. Ask the occupant which state they prefer. \n",
    "4. If they say state current state s, then record y as 1. If they say previous state r, then record y as 0.\n",
    "This first duel is our initial duel.\n",
    "5. Put the duel value and response in the '../data/duels/duels.csv' file"
   ]
  },
  {
   "cell_type": "code",
   "execution_count": 2,
   "metadata": {
    "collapsed": true
   },
   "outputs": [],
   "source": [
    "# Load the duels file\n",
    "data_file = '../GPFlowUnimodalPref/data/duels/duels2.csv' # <--- you need to keep on updating this file"
   ]
  },
  {
   "cell_type": "code",
   "execution_count": 3,
   "metadata": {},
   "outputs": [
    {
     "data": {
      "text/html": [
       "<div>\n",
       "<style scoped>\n",
       "    .dataframe tbody tr th:only-of-type {\n",
       "        vertical-align: middle;\n",
       "    }\n",
       "\n",
       "    .dataframe tbody tr th {\n",
       "        vertical-align: top;\n",
       "    }\n",
       "\n",
       "    .dataframe thead th {\n",
       "        text-align: right;\n",
       "    }\n",
       "</style>\n",
       "<table border=\"1\" class=\"dataframe\">\n",
       "  <thead>\n",
       "    <tr style=\"text-align: right;\">\n",
       "      <th></th>\n",
       "      <th>Tprev</th>\n",
       "      <th>Tcurrent</th>\n",
       "      <th>y</th>\n",
       "      <th>MEUI</th>\n",
       "    </tr>\n",
       "  </thead>\n",
       "  <tbody>\n",
       "    <tr>\n",
       "      <th>0</th>\n",
       "      <td>21</td>\n",
       "      <td>24</td>\n",
       "      <td>1</td>\n",
       "      <td>0.406</td>\n",
       "    </tr>\n",
       "    <tr>\n",
       "      <th>1</th>\n",
       "      <td>24</td>\n",
       "      <td>27</td>\n",
       "      <td>0</td>\n",
       "      <td>NaN</td>\n",
       "    </tr>\n",
       "  </tbody>\n",
       "</table>\n",
       "</div>"
      ],
      "text/plain": [
       "   Tprev  Tcurrent  y   MEUI\n",
       "0     21        24  1  0.406\n",
       "1     24        27  0    NaN"
      ]
     },
     "execution_count": 3,
     "metadata": {},
     "output_type": "execute_result"
    }
   ],
   "source": [
    "data = pd.read_csv(data_file)\n",
    "data # check if the duels data is as you want it to be"
   ]
  },
  {
   "cell_type": "code",
   "execution_count": 4,
   "metadata": {
    "collapsed": true
   },
   "outputs": [],
   "source": [
    "iter_num = data.shape[0]"
   ]
  },
  {
   "cell_type": "code",
   "execution_count": 5,
   "metadata": {
    "collapsed": true
   },
   "outputs": [],
   "source": [
    "Tprev = np.array(data.Tprev) # previous state (operating temp.)\n",
    "Tcurrent = np.array(data.Tcurrent) # current state <---- elicitation framework will give you this values\n",
    "X = np.vstack([[Tprev, Tcurrent]]).T\n",
    "X = X.astype(float) # features need to be float\n",
    "X_prime = np.linspace(20, 27, 20)[:,None]\n",
    "Y = np.array(data.y)[:,None] # response of the occupant <---- you need to ask occupant about this"
   ]
  },
  {
   "cell_type": "markdown",
   "metadata": {},
   "source": [
    "# Step 3\n",
    "\n",
    "Now, we want to find the next elicited state. So, we need to use **elicit** module."
   ]
  },
  {
   "cell_type": "code",
   "execution_count": null,
   "metadata": {
    "collapsed": true
   },
   "outputs": [],
   "source": [
    "config_file = '../GPFlowUnimodalPref/config_files/thermal_config.json' # configuration for grid (how fine you want to be)\n",
    "trial_num = 9 # this is just to save all the plots in '../data/results/T1' if trial_num = 1 ; T2 if trial_num = 2\n",
    "model_num = 1\n",
    "mcmc = True\n",
    "reachable = True\n",
    "savefig = True"
   ]
  },
  {
   "cell_type": "code",
   "execution_count": null,
   "metadata": {},
   "outputs": [
    {
     "name": "stdout",
     "output_type": "stream",
     "text": [
      "----------------------------------------\n",
      "Model is 1\n",
      "burn-in sampling started\n",
      "Iteration:  100 \t Acc Rate:  48.0 %\n",
      "Iteration:  200 \t Acc Rate:  53.0 %\n",
      "Iteration:  300 \t Acc Rate:  73.0 %\n",
      "Iteration:  400 \t Acc Rate:  83.0 %\n",
      "Iteration:  500 \t Acc Rate:  84.0 %\n",
      "Iteration:  600 \t Acc Rate:  73.0 %\n",
      "Iteration:  700 \t Acc Rate:  92.0 %\n",
      "Iteration:  800 \t Acc Rate:  82.0 %\n",
      "Iteration:  900 \t Acc Rate:  82.0 %\n",
      "Iteration:  1000 \t Acc Rate:  85.0 %\n",
      "burn-in sampling ended\n",
      "Iteration:  100 \t Acc Rate:  70.0 %\n",
      "Iteration:  200 \t Acc Rate:  80.0 %\n",
      "Iteration:  300 \t Acc Rate:  57.0 %\n",
      "Iteration:  400 \t Acc Rate:  76.0 %\n",
      "Iteration:  500 \t Acc Rate:  90.0 %\n",
      "Iteration:  600 \t Acc Rate:  97.0 %\n",
      "Iteration:  700 \t Acc Rate:  93.0 %\n",
      "Iteration:  800 \t Acc Rate:  78.0 %\n",
      "Iteration:  900 \t Acc Rate:  81.0 %\n",
      "Iteration:  1000 \t Acc Rate:  90.0 %\n",
      "Iteration:  1100 \t Acc Rate:  86.0 %\n",
      "Iteration:  1200 \t Acc Rate:  91.0 %\n",
      "Iteration:  1300 \t Acc Rate:  90.0 %\n",
      "Iteration:  1400 \t Acc Rate:  89.0 %\n",
      "Iteration:  1500 \t Acc Rate:  77.0 %\n",
      "Iteration:  1600 \t Acc Rate:  79.0 %\n",
      "Iteration:  1700 \t Acc Rate:  90.0 %\n",
      "Iteration:  1800 \t Acc Rate:  89.0 %\n",
      "Iteration:  1900 \t Acc Rate:  89.0 %\n",
      "Iteration:  2000 \t Acc Rate:  89.0 %\n",
      "Iteration:  2100 \t Acc Rate:  80.0 %\n",
      "Iteration:  2200 \t Acc Rate:  93.0 %\n",
      "Iteration:  2300 \t Acc Rate:  86.0 %\n",
      "Iteration:  2400 \t Acc Rate:  78.0 %\n",
      "Iteration:  2500 \t Acc Rate:  71.0 %\n",
      "Iteration:  2600 \t Acc Rate:  88.0 %\n",
      "Iteration:  2700 \t Acc Rate:  90.0 %\n",
      "Iteration:  2800 \t Acc Rate:  82.0 %\n",
      "Iteration:  2900 \t Acc Rate:  74.0 %\n",
      "Iteration:  3000 \t Acc Rate:  89.0 %\n",
      "Iteration:  3100 \t Acc Rate:  86.0 %\n",
      "Iteration:  3200 \t Acc Rate:  96.0 %\n",
      "Iteration:  3300 \t Acc Rate:  90.0 %\n",
      "Iteration:  3400 \t Acc Rate:  79.0 %\n",
      "Iteration:  3500 \t Acc Rate:  71.0 %\n",
      "Iteration:  3600 \t Acc Rate:  88.0 %\n",
      "Iteration:  3700 \t Acc Rate:  82.0 %\n",
      "Iteration:  3800 \t Acc Rate:  92.0 %\n",
      "Iteration:  3900 \t Acc Rate:  94.0 %\n",
      "Iteration:  4000 \t Acc Rate:  90.0 %\n",
      "Iteration:  4100 \t Acc Rate:  88.0 %\n",
      "Iteration:  4200 \t Acc Rate:  78.0 %\n",
      "Iteration:  4300 \t Acc Rate:  92.0 %\n",
      "Iteration:  4400 \t Acc Rate:  90.0 %\n",
      "Iteration:  4500 \t Acc Rate:  93.0 %\n",
      "Iteration:  4600 \t Acc Rate:  84.0 %\n",
      "Iteration:  4700 \t Acc Rate:  73.0 %\n",
      "Iteration:  4800 \t Acc Rate:  80.0 %\n",
      "Iteration:  4900 \t Acc Rate:  93.0 %\n",
      "Iteration:  5000 \t Acc Rate:  93.0 %\n",
      "Iteration:  5100 \t Acc Rate:  83.0 %\n",
      "Iteration:  5200 \t Acc Rate:  71.0 %\n",
      "Iteration:  5300 \t Acc Rate:  83.0 %\n",
      "Iteration:  5400 \t Acc Rate:  71.0 %\n",
      "Iteration:  5500 \t Acc Rate:  71.0 %\n",
      "Iteration:  5600 \t Acc Rate:  86.0 %\n",
      "Iteration:  5700 \t Acc Rate:  86.0 %\n",
      "Iteration:  5800 \t Acc Rate:  88.0 %\n",
      "Iteration:  5900 \t Acc Rate:  69.0 %\n",
      "Iteration:  6000 \t Acc Rate:  75.0 %\n",
      "Iteration:  6100 \t Acc Rate:  68.0 %\n",
      "Iteration:  6200 \t Acc Rate:  85.0 %\n",
      "Iteration:  6300 \t Acc Rate:  86.0 %\n",
      "Iteration:  6400 \t Acc Rate:  85.0 %\n",
      "Iteration:  6500 \t Acc Rate:  92.0 %\n",
      "Iteration:  6600 \t Acc Rate:  81.0 %\n",
      "Iteration:  6700 \t Acc Rate:  78.0 %\n",
      "Iteration:  6800 \t Acc Rate:  87.0 %\n",
      "Iteration:  6900 \t Acc Rate:  74.0 %\n",
      "Iteration:  7000 \t Acc Rate:  82.0 %\n",
      "Iteration:  7100 \t Acc Rate:  71.0 %\n",
      "Iteration:  7200 \t Acc Rate:  74.0 %\n",
      "Iteration:  7300 \t Acc Rate:  81.0 %\n",
      "Iteration:  7400 \t Acc Rate:  91.0 %\n",
      "Iteration:  7500 \t Acc Rate:  94.0 %\n",
      "Iteration:  7600 \t Acc Rate:  85.0 %\n",
      "Iteration:  7700 \t Acc Rate:  89.0 %\n",
      "Iteration:  7800 \t Acc Rate:  95.0 %\n",
      "Iteration:  7900 \t Acc Rate:  91.0 %\n",
      "Iteration:  8000 \t Acc Rate:  75.0 %\n",
      "Iteration:  8100 \t Acc Rate:  92.0 %\n",
      "Iteration:  8200 \t Acc Rate:  77.0 %\n",
      "Iteration:  8300 \t Acc Rate:  84.0 %\n",
      "Iteration:  8400 \t Acc Rate:  83.0 %\n",
      "Iteration:  8500 \t Acc Rate:  85.0 %\n",
      "Iteration:  8600 \t Acc Rate:  70.0 %\n",
      "Iteration:  8700 \t Acc Rate:  85.0 %\n",
      "Iteration:  8800 \t Acc Rate:  77.0 %\n",
      "Iteration:  8900 \t Acc Rate:  85.0 %\n",
      "Iteration:  9000 \t Acc Rate:  86.0 %\n",
      "Iteration:  9100 \t Acc Rate:  93.0 %\n",
      "Iteration:  9200 \t Acc Rate:  89.0 %\n",
      "Iteration:  9300 \t Acc Rate:  92.0 %\n",
      "Iteration:  9400 \t Acc Rate:  84.0 %\n",
      "Iteration:  9500 \t Acc Rate:  89.0 %\n",
      "Iteration:  9600 \t Acc Rate:  79.0 %\n",
      "Iteration:  9700 \t Acc Rate:  93.0 %\n",
      "Iteration:  9800 \t Acc Rate:  87.0 %\n",
      "Iteration:  9900 \t Acc Rate:  74.0 %\n",
      "Iteration:  10000 \t Acc Rate:  75.0 %\n",
      "Iteration:  10100 \t Acc Rate:  63.0 %\n",
      "Iteration:  10200 \t Acc Rate:  60.0 %\n",
      "Iteration:  10300 \t Acc Rate:  74.0 %\n",
      "Iteration:  10400 \t Acc Rate:  87.0 %\n",
      "Iteration:  10500 \t Acc Rate:  96.0 %\n",
      "Iteration:  10600 \t Acc Rate:  92.0 %\n",
      "Iteration:  10700 \t Acc Rate:  77.0 %\n",
      "Iteration:  10800 \t Acc Rate:  86.0 %\n",
      "Iteration:  10900 \t Acc Rate:  65.0 %\n",
      "Iteration:  11000 \t Acc Rate:  80.0 %\n",
      "Iteration:  11100 \t Acc Rate:  91.0 %\n",
      "Iteration:  11200 \t Acc Rate:  94.0 %\n",
      "Iteration:  11300 \t Acc Rate:  72.0 %\n",
      "Iteration:  11400 \t Acc Rate:  82.0 %\n",
      "Iteration:  11500 \t Acc Rate:  87.0 %\n",
      "Iteration:  11600 \t Acc Rate:  88.0 %\n",
      "Iteration:  11700 \t Acc Rate:  82.0 %\n",
      "Iteration:  11800 \t Acc Rate:  86.0 %\n",
      "Iteration:  11900 \t Acc Rate:  90.0 %\n",
      "Iteration:  12000 \t Acc Rate:  94.0 %\n",
      "Iteration:  12100 \t Acc Rate:  100.0 %\n",
      "Iteration:  12200 \t Acc Rate:  94.0 %\n",
      "Iteration:  12300 \t Acc Rate:  81.0 %\n",
      "Iteration:  12400 \t Acc Rate:  82.0 %\n",
      "Iteration:  12500 \t Acc Rate:  84.0 %\n",
      "Iteration:  12600 \t Acc Rate:  91.0 %\n",
      "Iteration:  12700 \t Acc Rate:  81.0 %\n",
      "Iteration:  12800 \t Acc Rate:  100.0 %\n",
      "Iteration:  12900 \t Acc Rate:  86.0 %\n",
      "Iteration:  13000 \t Acc Rate:  79.0 %\n",
      "Iteration:  13100 \t Acc Rate:  97.0 %\n",
      "Iteration:  13200 \t Acc Rate:  87.0 %\n",
      "Iteration:  13300 \t Acc Rate:  89.0 %\n",
      "Iteration:  13400 \t Acc Rate:  78.0 %\n",
      "Iteration:  13500 \t Acc Rate:  99.0 %\n",
      "Iteration:  13600 \t Acc Rate:  95.0 %\n",
      "Iteration:  13700 \t Acc Rate:  90.0 %\n",
      "Iteration:  13800 \t Acc Rate:  73.0 %\n",
      "Iteration:  13900 \t Acc Rate:  86.0 %\n",
      "Iteration:  14000 \t Acc Rate:  89.0 %\n",
      "Iteration:  14100 \t Acc Rate:  95.0 %\n",
      "Iteration:  14200 \t Acc Rate:  91.0 %\n",
      "Iteration:  14300 \t Acc Rate:  91.0 %\n",
      "Iteration:  14400 \t Acc Rate:  84.0 %\n",
      "Iteration:  14500 \t Acc Rate:  86.0 %\n",
      "Iteration:  14600 \t Acc Rate:  96.0 %\n",
      "Iteration:  14700 \t Acc Rate:  74.0 %\n",
      "Iteration:  14800 \t Acc Rate:  58.0 %\n",
      "Iteration:  14900 \t Acc Rate:  92.0 %\n",
      "Iteration:  15000 \t Acc Rate:  84.0 %\n",
      "Iteration:  15100 \t Acc Rate:  54.0 %\n",
      "Iteration:  15200 \t Acc Rate:  82.0 %\n",
      "Iteration:  15300 \t Acc Rate:  69.0 %\n",
      "Iteration:  15400 \t Acc Rate:  70.0 %\n",
      "Iteration:  15500 \t Acc Rate:  55.0 %\n",
      "Iteration:  15600 \t Acc Rate:  84.0 %\n",
      "Iteration:  15700 \t Acc Rate:  82.0 %\n",
      "Iteration:  15800 \t Acc Rate:  89.0 %\n",
      "Iteration:  15900 \t Acc Rate:  91.0 %\n",
      "Iteration:  16000 \t Acc Rate:  91.0 %\n",
      "Iteration:  16100 \t Acc Rate:  100.0 %\n",
      "Iteration:  16200 \t Acc Rate:  98.0 %\n",
      "Iteration:  16300 \t Acc Rate:  90.0 %\n",
      "Iteration:  16400 \t Acc Rate:  79.0 %\n",
      "Iteration:  16500 \t Acc Rate:  80.0 %\n",
      "Iteration:  16600 \t Acc Rate:  84.0 %\n",
      "Iteration:  16700 \t Acc Rate:  90.0 %\n",
      "Iteration:  16800 \t Acc Rate:  97.0 %\n",
      "Iteration:  16900 \t Acc Rate:  91.0 %\n",
      "Iteration:  17000 \t Acc Rate:  86.0 %\n",
      "Iteration:  17100 \t Acc Rate:  94.0 %\n",
      "Iteration:  17200 \t Acc Rate:  88.0 %\n",
      "Iteration:  17300 \t Acc Rate:  92.0 %\n",
      "Iteration:  17400 \t Acc Rate:  87.0 %\n",
      "Iteration:  17500 \t Acc Rate:  97.0 %\n",
      "Iteration:  17600 \t Acc Rate:  72.0 %\n",
      "Iteration:  17700 \t Acc Rate:  85.0 %\n",
      "Iteration:  17800 \t Acc Rate:  79.0 %\n",
      "Iteration:  17900 \t Acc Rate:  71.0 %\n",
      "Iteration:  18000 \t Acc Rate:  69.0 %\n",
      "Iteration:  18100 \t Acc Rate:  68.0 %\n",
      "Iteration:  18200 \t Acc Rate:  83.0 %\n",
      "Iteration:  18300 \t Acc Rate:  71.0 %\n",
      "Iteration:  18400 \t Acc Rate:  82.0 %\n",
      "Iteration:  18500 \t Acc Rate:  79.0 %\n",
      "Iteration:  18600 \t Acc Rate:  71.0 %\n",
      "Iteration:  18700 \t Acc Rate:  58.0 %\n",
      "Iteration:  18800 \t Acc Rate:  79.0 %\n",
      "Iteration:  18900 \t Acc Rate:  66.0 %\n",
      "Iteration:  19000 \t Acc Rate:  65.0 %\n",
      "Iteration:  19100 \t Acc Rate:  86.0 %\n",
      "Iteration:  19200 \t Acc Rate:  78.0 %\n",
      "Iteration:  19300 \t Acc Rate:  77.0 %\n",
      "Iteration:  19400 \t Acc Rate:  72.0 %\n",
      "Iteration:  19500 \t Acc Rate:  79.0 %\n",
      "Iteration:  19600 \t Acc Rate:  77.0 %\n",
      "Iteration:  19700 \t Acc Rate:  84.0 %\n"
     ]
    }
   ],
   "source": [
    "Aq =  elicit.IntegratedAquisition(X, Y, X_prime, config_file, model_num, mcmc, reachable)"
   ]
  },
  {
   "cell_type": "code",
   "execution_count": null,
   "metadata": {},
   "outputs": [],
   "source": [
    "next_state, next_duel, meanexp, max_exp_imp = Aq.EUI(iter_num, trial_num, savefig)"
   ]
  },
  {
   "cell_type": "markdown",
   "metadata": {},
   "source": [
    "## Step 3 is the most important step. It outputs next state."
   ]
  },
  {
   "cell_type": "markdown",
   "metadata": {},
   "source": [
    "# next_state ?"
   ]
  },
  {
   "cell_type": "code",
   "execution_count": null,
   "metadata": {},
   "outputs": [],
   "source": [
    "next_state"
   ]
  },
  {
   "cell_type": "markdown",
   "metadata": {},
   "source": [
    "# next duel ?\n",
    "\n",
    "One of the state is always shared between two duels. So, this is nothing but concatenation of next_state with previous."
   ]
  },
  {
   "cell_type": "code",
   "execution_count": null,
   "metadata": {},
   "outputs": [],
   "source": [
    "next_duel"
   ]
  },
  {
   "cell_type": "markdown",
   "metadata": {},
   "source": [
    "# max EUI ?"
   ]
  },
  {
   "cell_type": "code",
   "execution_count": null,
   "metadata": {},
   "outputs": [],
   "source": [
    "max_exp_imp"
   ]
  },
  {
   "cell_type": "markdown",
   "metadata": {},
   "source": [
    "# Step 4 (Sanity checks)\n",
    "\n",
    "Is our framework on the right track?\n",
    "\n",
    "Check -\n",
    "1. Max Expected Improvement value (is it less than the previous iteration's expected improvement? If so, GOOD!\n",
    "2. Check the Expected Improvement plots. This will be saved automatically in '../data/results/T1/exp_imp_plots/iteration_num'.\n",
    "3. Also check utility samples, how they look? Do they make sense? Is our framework going towards max? Some utility samples will also be saved in '../data/results/T1/utility_samples/iteration_num'."
   ]
  },
  {
   "cell_type": "markdown",
   "metadata": {},
   "source": [
    "# Step 5\n",
    "\n",
    "1. Once you have verified that the framework is on the right track, change the operating temp of the room to the next_state as above. \n",
    "2. Its fine if you are not able to acheive the next state accurately, just record the measured next state value.\n",
    "2. Ask the occupant again, which state does he prefer.\n",
    "3. Add the new measured state and response to the csv  '../data/duels/duels.csv' file.\n",
    "4. Add max_exp_imp to the MEUI column.\n",
    "5. Run the notebook again with updated csv file.\n",
    "6. As you progress with the elicitation, you will notice that the ratio $(MEUI_{(i+1)} - MEUI_{(i)})/MEUI_{(i)}$ will decrease. Based on pilot study, stop the elicitation, once the ratio becomes small enough."
   ]
  },
  {
   "cell_type": "code",
   "execution_count": null,
   "metadata": {},
   "outputs": [],
   "source": [
    "V = datagen.ThermalPrefDataGen(config_file)\n",
    "Ynew = V.response_gen1D(next_duel[:,None].T)\n",
    "Ynew"
   ]
  },
  {
   "cell_type": "code",
   "execution_count": null,
   "metadata": {
    "collapsed": true
   },
   "outputs": [],
   "source": []
  }
 ],
 "metadata": {
  "kernelspec": {
   "display_name": "Python [default]",
   "language": "python",
   "name": "python2"
  },
  "language_info": {
   "codemirror_mode": {
    "name": "ipython",
    "version": 2
   },
   "file_extension": ".py",
   "mimetype": "text/x-python",
   "name": "python",
   "nbconvert_exporter": "python",
   "pygments_lexer": "ipython2",
   "version": "2.7.14"
  }
 },
 "nbformat": 4,
 "nbformat_minor": 2
}
